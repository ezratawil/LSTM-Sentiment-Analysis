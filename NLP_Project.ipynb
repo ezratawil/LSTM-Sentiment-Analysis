{
  "nbformat": 4,
  "nbformat_minor": 0,
  "metadata": {
    "colab": {
      "name": "sentiment analysis.ipynb",
      "provenance": [],
      "collapsed_sections": [],
      "mount_file_id": "1D02Fvoqhk8uC9U2vGH0FUF6RZDmZMODM",
      "authorship_tag": "ABX9TyNtOZLRhJkVJjmzOX9LQ3LG",
      "include_colab_link": true
    },
    "kernelspec": {
      "name": "python3",
      "display_name": "Python 3"
    },
    "language_info": {
      "name": "python"
    },
    "widgets": {
      "application/vnd.jupyter.widget-state+json": {
        "506197885b8645b481a3313900ba3355": {
          "model_module": "@jupyter-widgets/controls",
          "model_name": "HBoxModel",
          "model_module_version": "1.5.0",
          "state": {
            "_view_name": "HBoxView",
            "_dom_classes": [],
            "_model_name": "HBoxModel",
            "_view_module": "@jupyter-widgets/controls",
            "_model_module_version": "1.5.0",
            "_view_count": null,
            "_view_module_version": "1.5.0",
            "box_style": "",
            "layout": "IPY_MODEL_2343fc6137b84ee7af846f869eac6559",
            "_model_module": "@jupyter-widgets/controls",
            "children": [
              "IPY_MODEL_c84c4c2d9ec448588892d83123381524",
              "IPY_MODEL_ce0f8280182f4858ac4340676d72ac1c",
              "IPY_MODEL_9c953280ca9d44f489d886f3782f9def"
            ]
          }
        },
        "2343fc6137b84ee7af846f869eac6559": {
          "model_module": "@jupyter-widgets/base",
          "model_name": "LayoutModel",
          "model_module_version": "1.2.0",
          "state": {
            "_view_name": "LayoutView",
            "grid_template_rows": null,
            "right": null,
            "justify_content": null,
            "_view_module": "@jupyter-widgets/base",
            "overflow": null,
            "_model_module_version": "1.2.0",
            "_view_count": null,
            "flex_flow": null,
            "width": null,
            "min_width": null,
            "border": null,
            "align_items": null,
            "bottom": null,
            "_model_module": "@jupyter-widgets/base",
            "top": null,
            "grid_column": null,
            "overflow_y": null,
            "overflow_x": null,
            "grid_auto_flow": null,
            "grid_area": null,
            "grid_template_columns": null,
            "flex": null,
            "_model_name": "LayoutModel",
            "justify_items": null,
            "grid_row": null,
            "max_height": null,
            "align_content": null,
            "visibility": null,
            "align_self": null,
            "height": null,
            "min_height": null,
            "padding": null,
            "grid_auto_rows": null,
            "grid_gap": null,
            "max_width": null,
            "order": null,
            "_view_module_version": "1.2.0",
            "grid_template_areas": null,
            "object_position": null,
            "object_fit": null,
            "grid_auto_columns": null,
            "margin": null,
            "display": null,
            "left": null
          }
        },
        "c84c4c2d9ec448588892d83123381524": {
          "model_module": "@jupyter-widgets/controls",
          "model_name": "HTMLModel",
          "model_module_version": "1.5.0",
          "state": {
            "_view_name": "HTMLView",
            "style": "IPY_MODEL_80439b06a13549c5a5c12bc4bf9e35e2",
            "_dom_classes": [],
            "description": "",
            "_model_name": "HTMLModel",
            "placeholder": "​",
            "_view_module": "@jupyter-widgets/controls",
            "_model_module_version": "1.5.0",
            "value": "100%",
            "_view_count": null,
            "_view_module_version": "1.5.0",
            "description_tooltip": null,
            "_model_module": "@jupyter-widgets/controls",
            "layout": "IPY_MODEL_17c98881851c4c768941e9dfa964e82d"
          }
        },
        "ce0f8280182f4858ac4340676d72ac1c": {
          "model_module": "@jupyter-widgets/controls",
          "model_name": "FloatProgressModel",
          "model_module_version": "1.5.0",
          "state": {
            "_view_name": "ProgressView",
            "style": "IPY_MODEL_2d0205b399f14a4fbacb3bf27d94c578",
            "_dom_classes": [],
            "description": "",
            "_model_name": "FloatProgressModel",
            "bar_style": "success",
            "max": 952640,
            "_view_module": "@jupyter-widgets/controls",
            "_model_module_version": "1.5.0",
            "value": 952640,
            "_view_count": null,
            "_view_module_version": "1.5.0",
            "orientation": "horizontal",
            "min": 0,
            "description_tooltip": null,
            "_model_module": "@jupyter-widgets/controls",
            "layout": "IPY_MODEL_8ba1636650104bd98ba62a2cf4a67b0b"
          }
        },
        "9c953280ca9d44f489d886f3782f9def": {
          "model_module": "@jupyter-widgets/controls",
          "model_name": "HTMLModel",
          "model_module_version": "1.5.0",
          "state": {
            "_view_name": "HTMLView",
            "style": "IPY_MODEL_41395a2af8ac4ba9ae4bf42118fdc77f",
            "_dom_classes": [],
            "description": "",
            "_model_name": "HTMLModel",
            "placeholder": "​",
            "_view_module": "@jupyter-widgets/controls",
            "_model_module_version": "1.5.0",
            "value": " 952640/952640 [00:11&lt;00:00, 34300.98it/s]",
            "_view_count": null,
            "_view_module_version": "1.5.0",
            "description_tooltip": null,
            "_model_module": "@jupyter-widgets/controls",
            "layout": "IPY_MODEL_a0e3a1b0937d453e98d43474a7b0319b"
          }
        },
        "80439b06a13549c5a5c12bc4bf9e35e2": {
          "model_module": "@jupyter-widgets/controls",
          "model_name": "DescriptionStyleModel",
          "model_module_version": "1.5.0",
          "state": {
            "_view_name": "StyleView",
            "_model_name": "DescriptionStyleModel",
            "description_width": "",
            "_view_module": "@jupyter-widgets/base",
            "_model_module_version": "1.5.0",
            "_view_count": null,
            "_view_module_version": "1.2.0",
            "_model_module": "@jupyter-widgets/controls"
          }
        },
        "17c98881851c4c768941e9dfa964e82d": {
          "model_module": "@jupyter-widgets/base",
          "model_name": "LayoutModel",
          "model_module_version": "1.2.0",
          "state": {
            "_view_name": "LayoutView",
            "grid_template_rows": null,
            "right": null,
            "justify_content": null,
            "_view_module": "@jupyter-widgets/base",
            "overflow": null,
            "_model_module_version": "1.2.0",
            "_view_count": null,
            "flex_flow": null,
            "width": null,
            "min_width": null,
            "border": null,
            "align_items": null,
            "bottom": null,
            "_model_module": "@jupyter-widgets/base",
            "top": null,
            "grid_column": null,
            "overflow_y": null,
            "overflow_x": null,
            "grid_auto_flow": null,
            "grid_area": null,
            "grid_template_columns": null,
            "flex": null,
            "_model_name": "LayoutModel",
            "justify_items": null,
            "grid_row": null,
            "max_height": null,
            "align_content": null,
            "visibility": null,
            "align_self": null,
            "height": null,
            "min_height": null,
            "padding": null,
            "grid_auto_rows": null,
            "grid_gap": null,
            "max_width": null,
            "order": null,
            "_view_module_version": "1.2.0",
            "grid_template_areas": null,
            "object_position": null,
            "object_fit": null,
            "grid_auto_columns": null,
            "margin": null,
            "display": null,
            "left": null
          }
        },
        "2d0205b399f14a4fbacb3bf27d94c578": {
          "model_module": "@jupyter-widgets/controls",
          "model_name": "ProgressStyleModel",
          "model_module_version": "1.5.0",
          "state": {
            "_view_name": "StyleView",
            "_model_name": "ProgressStyleModel",
            "description_width": "",
            "_view_module": "@jupyter-widgets/base",
            "_model_module_version": "1.5.0",
            "_view_count": null,
            "_view_module_version": "1.2.0",
            "bar_color": null,
            "_model_module": "@jupyter-widgets/controls"
          }
        },
        "8ba1636650104bd98ba62a2cf4a67b0b": {
          "model_module": "@jupyter-widgets/base",
          "model_name": "LayoutModel",
          "model_module_version": "1.2.0",
          "state": {
            "_view_name": "LayoutView",
            "grid_template_rows": null,
            "right": null,
            "justify_content": null,
            "_view_module": "@jupyter-widgets/base",
            "overflow": null,
            "_model_module_version": "1.2.0",
            "_view_count": null,
            "flex_flow": null,
            "width": null,
            "min_width": null,
            "border": null,
            "align_items": null,
            "bottom": null,
            "_model_module": "@jupyter-widgets/base",
            "top": null,
            "grid_column": null,
            "overflow_y": null,
            "overflow_x": null,
            "grid_auto_flow": null,
            "grid_area": null,
            "grid_template_columns": null,
            "flex": null,
            "_model_name": "LayoutModel",
            "justify_items": null,
            "grid_row": null,
            "max_height": null,
            "align_content": null,
            "visibility": null,
            "align_self": null,
            "height": null,
            "min_height": null,
            "padding": null,
            "grid_auto_rows": null,
            "grid_gap": null,
            "max_width": null,
            "order": null,
            "_view_module_version": "1.2.0",
            "grid_template_areas": null,
            "object_position": null,
            "object_fit": null,
            "grid_auto_columns": null,
            "margin": null,
            "display": null,
            "left": null
          }
        },
        "41395a2af8ac4ba9ae4bf42118fdc77f": {
          "model_module": "@jupyter-widgets/controls",
          "model_name": "DescriptionStyleModel",
          "model_module_version": "1.5.0",
          "state": {
            "_view_name": "StyleView",
            "_model_name": "DescriptionStyleModel",
            "description_width": "",
            "_view_module": "@jupyter-widgets/base",
            "_model_module_version": "1.5.0",
            "_view_count": null,
            "_view_module_version": "1.2.0",
            "_model_module": "@jupyter-widgets/controls"
          }
        },
        "a0e3a1b0937d453e98d43474a7b0319b": {
          "model_module": "@jupyter-widgets/base",
          "model_name": "LayoutModel",
          "model_module_version": "1.2.0",
          "state": {
            "_view_name": "LayoutView",
            "grid_template_rows": null,
            "right": null,
            "justify_content": null,
            "_view_module": "@jupyter-widgets/base",
            "overflow": null,
            "_model_module_version": "1.2.0",
            "_view_count": null,
            "flex_flow": null,
            "width": null,
            "min_width": null,
            "border": null,
            "align_items": null,
            "bottom": null,
            "_model_module": "@jupyter-widgets/base",
            "top": null,
            "grid_column": null,
            "overflow_y": null,
            "overflow_x": null,
            "grid_auto_flow": null,
            "grid_area": null,
            "grid_template_columns": null,
            "flex": null,
            "_model_name": "LayoutModel",
            "justify_items": null,
            "grid_row": null,
            "max_height": null,
            "align_content": null,
            "visibility": null,
            "align_self": null,
            "height": null,
            "min_height": null,
            "padding": null,
            "grid_auto_rows": null,
            "grid_gap": null,
            "max_width": null,
            "order": null,
            "_view_module_version": "1.2.0",
            "grid_template_areas": null,
            "object_position": null,
            "object_fit": null,
            "grid_auto_columns": null,
            "margin": null,
            "display": null,
            "left": null
          }
        },
        "85e8c9fcbc204c17b32fd609593aece1": {
          "model_module": "@jupyter-widgets/controls",
          "model_name": "HBoxModel",
          "model_module_version": "1.5.0",
          "state": {
            "_view_name": "HBoxView",
            "_dom_classes": [],
            "_model_name": "HBoxModel",
            "_view_module": "@jupyter-widgets/controls",
            "_model_module_version": "1.5.0",
            "_view_count": null,
            "_view_module_version": "1.5.0",
            "box_style": "",
            "layout": "IPY_MODEL_540680462aef4dcb92ad7bd79262a241",
            "_model_module": "@jupyter-widgets/controls",
            "children": [
              "IPY_MODEL_11838d49a4ce465da764659c645ed7ad",
              "IPY_MODEL_02b705da00c1488487274a0e52b1642f",
              "IPY_MODEL_76705401a9fa4eb3b224f5179203f68e"
            ]
          }
        },
        "540680462aef4dcb92ad7bd79262a241": {
          "model_module": "@jupyter-widgets/base",
          "model_name": "LayoutModel",
          "model_module_version": "1.2.0",
          "state": {
            "_view_name": "LayoutView",
            "grid_template_rows": null,
            "right": null,
            "justify_content": null,
            "_view_module": "@jupyter-widgets/base",
            "overflow": null,
            "_model_module_version": "1.2.0",
            "_view_count": null,
            "flex_flow": null,
            "width": null,
            "min_width": null,
            "border": null,
            "align_items": null,
            "bottom": null,
            "_model_module": "@jupyter-widgets/base",
            "top": null,
            "grid_column": null,
            "overflow_y": null,
            "overflow_x": null,
            "grid_auto_flow": null,
            "grid_area": null,
            "grid_template_columns": null,
            "flex": null,
            "_model_name": "LayoutModel",
            "justify_items": null,
            "grid_row": null,
            "max_height": null,
            "align_content": null,
            "visibility": null,
            "align_self": null,
            "height": null,
            "min_height": null,
            "padding": null,
            "grid_auto_rows": null,
            "grid_gap": null,
            "max_width": null,
            "order": null,
            "_view_module_version": "1.2.0",
            "grid_template_areas": null,
            "object_position": null,
            "object_fit": null,
            "grid_auto_columns": null,
            "margin": null,
            "display": null,
            "left": null
          }
        },
        "11838d49a4ce465da764659c645ed7ad": {
          "model_module": "@jupyter-widgets/controls",
          "model_name": "HTMLModel",
          "model_module_version": "1.5.0",
          "state": {
            "_view_name": "HTMLView",
            "style": "IPY_MODEL_62c2c1795d414d338daa2d5aff1d9ed5",
            "_dom_classes": [],
            "description": "",
            "_model_name": "HTMLModel",
            "placeholder": "​",
            "_view_module": "@jupyter-widgets/controls",
            "_model_module_version": "1.5.0",
            "value": "100%",
            "_view_count": null,
            "_view_module_version": "1.5.0",
            "description_tooltip": null,
            "_model_module": "@jupyter-widgets/controls",
            "layout": "IPY_MODEL_3fc73ab23f764200b7605ea3425bcabf"
          }
        },
        "02b705da00c1488487274a0e52b1642f": {
          "model_module": "@jupyter-widgets/controls",
          "model_name": "FloatProgressModel",
          "model_module_version": "1.5.0",
          "state": {
            "_view_name": "ProgressView",
            "style": "IPY_MODEL_7f4a00f3c0594a93b0a60a7d0dbab184",
            "_dom_classes": [],
            "description": "",
            "_model_name": "FloatProgressModel",
            "bar_style": "success",
            "max": 952640,
            "_view_module": "@jupyter-widgets/controls",
            "_model_module_version": "1.5.0",
            "value": 952640,
            "_view_count": null,
            "_view_module_version": "1.5.0",
            "orientation": "horizontal",
            "min": 0,
            "description_tooltip": null,
            "_model_module": "@jupyter-widgets/controls",
            "layout": "IPY_MODEL_de1410b6e4a842e3bc9d5defc19a0924"
          }
        },
        "76705401a9fa4eb3b224f5179203f68e": {
          "model_module": "@jupyter-widgets/controls",
          "model_name": "HTMLModel",
          "model_module_version": "1.5.0",
          "state": {
            "_view_name": "HTMLView",
            "style": "IPY_MODEL_b016c092b96945f5b34da75f017b5ee0",
            "_dom_classes": [],
            "description": "",
            "_model_name": "HTMLModel",
            "placeholder": "​",
            "_view_module": "@jupyter-widgets/controls",
            "_model_module_version": "1.5.0",
            "value": " 952640/952640 [00:27&lt;00:00, 17293.83it/s]",
            "_view_count": null,
            "_view_module_version": "1.5.0",
            "description_tooltip": null,
            "_model_module": "@jupyter-widgets/controls",
            "layout": "IPY_MODEL_d2629f1ecdc44274b7f73bc07cd39b2a"
          }
        },
        "62c2c1795d414d338daa2d5aff1d9ed5": {
          "model_module": "@jupyter-widgets/controls",
          "model_name": "DescriptionStyleModel",
          "model_module_version": "1.5.0",
          "state": {
            "_view_name": "StyleView",
            "_model_name": "DescriptionStyleModel",
            "description_width": "",
            "_view_module": "@jupyter-widgets/base",
            "_model_module_version": "1.5.0",
            "_view_count": null,
            "_view_module_version": "1.2.0",
            "_model_module": "@jupyter-widgets/controls"
          }
        },
        "3fc73ab23f764200b7605ea3425bcabf": {
          "model_module": "@jupyter-widgets/base",
          "model_name": "LayoutModel",
          "model_module_version": "1.2.0",
          "state": {
            "_view_name": "LayoutView",
            "grid_template_rows": null,
            "right": null,
            "justify_content": null,
            "_view_module": "@jupyter-widgets/base",
            "overflow": null,
            "_model_module_version": "1.2.0",
            "_view_count": null,
            "flex_flow": null,
            "width": null,
            "min_width": null,
            "border": null,
            "align_items": null,
            "bottom": null,
            "_model_module": "@jupyter-widgets/base",
            "top": null,
            "grid_column": null,
            "overflow_y": null,
            "overflow_x": null,
            "grid_auto_flow": null,
            "grid_area": null,
            "grid_template_columns": null,
            "flex": null,
            "_model_name": "LayoutModel",
            "justify_items": null,
            "grid_row": null,
            "max_height": null,
            "align_content": null,
            "visibility": null,
            "align_self": null,
            "height": null,
            "min_height": null,
            "padding": null,
            "grid_auto_rows": null,
            "grid_gap": null,
            "max_width": null,
            "order": null,
            "_view_module_version": "1.2.0",
            "grid_template_areas": null,
            "object_position": null,
            "object_fit": null,
            "grid_auto_columns": null,
            "margin": null,
            "display": null,
            "left": null
          }
        },
        "7f4a00f3c0594a93b0a60a7d0dbab184": {
          "model_module": "@jupyter-widgets/controls",
          "model_name": "ProgressStyleModel",
          "model_module_version": "1.5.0",
          "state": {
            "_view_name": "StyleView",
            "_model_name": "ProgressStyleModel",
            "description_width": "",
            "_view_module": "@jupyter-widgets/base",
            "_model_module_version": "1.5.0",
            "_view_count": null,
            "_view_module_version": "1.2.0",
            "bar_color": null,
            "_model_module": "@jupyter-widgets/controls"
          }
        },
        "de1410b6e4a842e3bc9d5defc19a0924": {
          "model_module": "@jupyter-widgets/base",
          "model_name": "LayoutModel",
          "model_module_version": "1.2.0",
          "state": {
            "_view_name": "LayoutView",
            "grid_template_rows": null,
            "right": null,
            "justify_content": null,
            "_view_module": "@jupyter-widgets/base",
            "overflow": null,
            "_model_module_version": "1.2.0",
            "_view_count": null,
            "flex_flow": null,
            "width": null,
            "min_width": null,
            "border": null,
            "align_items": null,
            "bottom": null,
            "_model_module": "@jupyter-widgets/base",
            "top": null,
            "grid_column": null,
            "overflow_y": null,
            "overflow_x": null,
            "grid_auto_flow": null,
            "grid_area": null,
            "grid_template_columns": null,
            "flex": null,
            "_model_name": "LayoutModel",
            "justify_items": null,
            "grid_row": null,
            "max_height": null,
            "align_content": null,
            "visibility": null,
            "align_self": null,
            "height": null,
            "min_height": null,
            "padding": null,
            "grid_auto_rows": null,
            "grid_gap": null,
            "max_width": null,
            "order": null,
            "_view_module_version": "1.2.0",
            "grid_template_areas": null,
            "object_position": null,
            "object_fit": null,
            "grid_auto_columns": null,
            "margin": null,
            "display": null,
            "left": null
          }
        },
        "b016c092b96945f5b34da75f017b5ee0": {
          "model_module": "@jupyter-widgets/controls",
          "model_name": "DescriptionStyleModel",
          "model_module_version": "1.5.0",
          "state": {
            "_view_name": "StyleView",
            "_model_name": "DescriptionStyleModel",
            "description_width": "",
            "_view_module": "@jupyter-widgets/base",
            "_model_module_version": "1.5.0",
            "_view_count": null,
            "_view_module_version": "1.2.0",
            "_model_module": "@jupyter-widgets/controls"
          }
        },
        "d2629f1ecdc44274b7f73bc07cd39b2a": {
          "model_module": "@jupyter-widgets/base",
          "model_name": "LayoutModel",
          "model_module_version": "1.2.0",
          "state": {
            "_view_name": "LayoutView",
            "grid_template_rows": null,
            "right": null,
            "justify_content": null,
            "_view_module": "@jupyter-widgets/base",
            "overflow": null,
            "_model_module_version": "1.2.0",
            "_view_count": null,
            "flex_flow": null,
            "width": null,
            "min_width": null,
            "border": null,
            "align_items": null,
            "bottom": null,
            "_model_module": "@jupyter-widgets/base",
            "top": null,
            "grid_column": null,
            "overflow_y": null,
            "overflow_x": null,
            "grid_auto_flow": null,
            "grid_area": null,
            "grid_template_columns": null,
            "flex": null,
            "_model_name": "LayoutModel",
            "justify_items": null,
            "grid_row": null,
            "max_height": null,
            "align_content": null,
            "visibility": null,
            "align_self": null,
            "height": null,
            "min_height": null,
            "padding": null,
            "grid_auto_rows": null,
            "grid_gap": null,
            "max_width": null,
            "order": null,
            "_view_module_version": "1.2.0",
            "grid_template_areas": null,
            "object_position": null,
            "object_fit": null,
            "grid_auto_columns": null,
            "margin": null,
            "display": null,
            "left": null
          }
        },
        "089b3ff9c61346f6ba712166d908c516": {
          "model_module": "@jupyter-widgets/controls",
          "model_name": "HBoxModel",
          "model_module_version": "1.5.0",
          "state": {
            "_view_name": "HBoxView",
            "_dom_classes": [],
            "_model_name": "HBoxModel",
            "_view_module": "@jupyter-widgets/controls",
            "_model_module_version": "1.5.0",
            "_view_count": null,
            "_view_module_version": "1.5.0",
            "box_style": "",
            "layout": "IPY_MODEL_799af62c815c4efdb93055e2b5bb91e0",
            "_model_module": "@jupyter-widgets/controls",
            "children": [
              "IPY_MODEL_4f4b97be39b84b0298f410d970fdbef6",
              "IPY_MODEL_6abd9a7d66904a5eb283800b96ead724",
              "IPY_MODEL_44728d22b2b048b7ad2155f297bf86b4"
            ]
          }
        },
        "799af62c815c4efdb93055e2b5bb91e0": {
          "model_module": "@jupyter-widgets/base",
          "model_name": "LayoutModel",
          "model_module_version": "1.2.0",
          "state": {
            "_view_name": "LayoutView",
            "grid_template_rows": null,
            "right": null,
            "justify_content": null,
            "_view_module": "@jupyter-widgets/base",
            "overflow": null,
            "_model_module_version": "1.2.0",
            "_view_count": null,
            "flex_flow": null,
            "width": null,
            "min_width": null,
            "border": null,
            "align_items": null,
            "bottom": null,
            "_model_module": "@jupyter-widgets/base",
            "top": null,
            "grid_column": null,
            "overflow_y": null,
            "overflow_x": null,
            "grid_auto_flow": null,
            "grid_area": null,
            "grid_template_columns": null,
            "flex": null,
            "_model_name": "LayoutModel",
            "justify_items": null,
            "grid_row": null,
            "max_height": null,
            "align_content": null,
            "visibility": null,
            "align_self": null,
            "height": null,
            "min_height": null,
            "padding": null,
            "grid_auto_rows": null,
            "grid_gap": null,
            "max_width": null,
            "order": null,
            "_view_module_version": "1.2.0",
            "grid_template_areas": null,
            "object_position": null,
            "object_fit": null,
            "grid_auto_columns": null,
            "margin": null,
            "display": null,
            "left": null
          }
        },
        "4f4b97be39b84b0298f410d970fdbef6": {
          "model_module": "@jupyter-widgets/controls",
          "model_name": "HTMLModel",
          "model_module_version": "1.5.0",
          "state": {
            "_view_name": "HTMLView",
            "style": "IPY_MODEL_525b3a3d909d4f75be24061f0af702aa",
            "_dom_classes": [],
            "description": "",
            "_model_name": "HTMLModel",
            "placeholder": "​",
            "_view_module": "@jupyter-widgets/controls",
            "_model_module_version": "1.5.0",
            "value": "100%",
            "_view_count": null,
            "_view_module_version": "1.5.0",
            "description_tooltip": null,
            "_model_module": "@jupyter-widgets/controls",
            "layout": "IPY_MODEL_3f38da16d8f641039a8e1cf7a4ae2828"
          }
        },
        "6abd9a7d66904a5eb283800b96ead724": {
          "model_module": "@jupyter-widgets/controls",
          "model_name": "FloatProgressModel",
          "model_module_version": "1.5.0",
          "state": {
            "_view_name": "ProgressView",
            "style": "IPY_MODEL_db9a09749409461c9f455824917ca980",
            "_dom_classes": [],
            "description": "",
            "_model_name": "FloatProgressModel",
            "bar_style": "success",
            "max": 952640,
            "_view_module": "@jupyter-widgets/controls",
            "_model_module_version": "1.5.0",
            "value": 952640,
            "_view_count": null,
            "_view_module_version": "1.5.0",
            "orientation": "horizontal",
            "min": 0,
            "description_tooltip": null,
            "_model_module": "@jupyter-widgets/controls",
            "layout": "IPY_MODEL_e395e56d82e041259005ff698c383c6c"
          }
        },
        "44728d22b2b048b7ad2155f297bf86b4": {
          "model_module": "@jupyter-widgets/controls",
          "model_name": "HTMLModel",
          "model_module_version": "1.5.0",
          "state": {
            "_view_name": "HTMLView",
            "style": "IPY_MODEL_35234762db1847a8b33bd7f2ad354efe",
            "_dom_classes": [],
            "description": "",
            "_model_name": "HTMLModel",
            "placeholder": "​",
            "_view_module": "@jupyter-widgets/controls",
            "_model_module_version": "1.5.0",
            "value": " 952640/952640 [00:17&lt;00:00, 26893.70it/s]",
            "_view_count": null,
            "_view_module_version": "1.5.0",
            "description_tooltip": null,
            "_model_module": "@jupyter-widgets/controls",
            "layout": "IPY_MODEL_364c93197f0e49ac9ebf773e392bdcbb"
          }
        },
        "525b3a3d909d4f75be24061f0af702aa": {
          "model_module": "@jupyter-widgets/controls",
          "model_name": "DescriptionStyleModel",
          "model_module_version": "1.5.0",
          "state": {
            "_view_name": "StyleView",
            "_model_name": "DescriptionStyleModel",
            "description_width": "",
            "_view_module": "@jupyter-widgets/base",
            "_model_module_version": "1.5.0",
            "_view_count": null,
            "_view_module_version": "1.2.0",
            "_model_module": "@jupyter-widgets/controls"
          }
        },
        "3f38da16d8f641039a8e1cf7a4ae2828": {
          "model_module": "@jupyter-widgets/base",
          "model_name": "LayoutModel",
          "model_module_version": "1.2.0",
          "state": {
            "_view_name": "LayoutView",
            "grid_template_rows": null,
            "right": null,
            "justify_content": null,
            "_view_module": "@jupyter-widgets/base",
            "overflow": null,
            "_model_module_version": "1.2.0",
            "_view_count": null,
            "flex_flow": null,
            "width": null,
            "min_width": null,
            "border": null,
            "align_items": null,
            "bottom": null,
            "_model_module": "@jupyter-widgets/base",
            "top": null,
            "grid_column": null,
            "overflow_y": null,
            "overflow_x": null,
            "grid_auto_flow": null,
            "grid_area": null,
            "grid_template_columns": null,
            "flex": null,
            "_model_name": "LayoutModel",
            "justify_items": null,
            "grid_row": null,
            "max_height": null,
            "align_content": null,
            "visibility": null,
            "align_self": null,
            "height": null,
            "min_height": null,
            "padding": null,
            "grid_auto_rows": null,
            "grid_gap": null,
            "max_width": null,
            "order": null,
            "_view_module_version": "1.2.0",
            "grid_template_areas": null,
            "object_position": null,
            "object_fit": null,
            "grid_auto_columns": null,
            "margin": null,
            "display": null,
            "left": null
          }
        },
        "db9a09749409461c9f455824917ca980": {
          "model_module": "@jupyter-widgets/controls",
          "model_name": "ProgressStyleModel",
          "model_module_version": "1.5.0",
          "state": {
            "_view_name": "StyleView",
            "_model_name": "ProgressStyleModel",
            "description_width": "",
            "_view_module": "@jupyter-widgets/base",
            "_model_module_version": "1.5.0",
            "_view_count": null,
            "_view_module_version": "1.2.0",
            "bar_color": null,
            "_model_module": "@jupyter-widgets/controls"
          }
        },
        "e395e56d82e041259005ff698c383c6c": {
          "model_module": "@jupyter-widgets/base",
          "model_name": "LayoutModel",
          "model_module_version": "1.2.0",
          "state": {
            "_view_name": "LayoutView",
            "grid_template_rows": null,
            "right": null,
            "justify_content": null,
            "_view_module": "@jupyter-widgets/base",
            "overflow": null,
            "_model_module_version": "1.2.0",
            "_view_count": null,
            "flex_flow": null,
            "width": null,
            "min_width": null,
            "border": null,
            "align_items": null,
            "bottom": null,
            "_model_module": "@jupyter-widgets/base",
            "top": null,
            "grid_column": null,
            "overflow_y": null,
            "overflow_x": null,
            "grid_auto_flow": null,
            "grid_area": null,
            "grid_template_columns": null,
            "flex": null,
            "_model_name": "LayoutModel",
            "justify_items": null,
            "grid_row": null,
            "max_height": null,
            "align_content": null,
            "visibility": null,
            "align_self": null,
            "height": null,
            "min_height": null,
            "padding": null,
            "grid_auto_rows": null,
            "grid_gap": null,
            "max_width": null,
            "order": null,
            "_view_module_version": "1.2.0",
            "grid_template_areas": null,
            "object_position": null,
            "object_fit": null,
            "grid_auto_columns": null,
            "margin": null,
            "display": null,
            "left": null
          }
        },
        "35234762db1847a8b33bd7f2ad354efe": {
          "model_module": "@jupyter-widgets/controls",
          "model_name": "DescriptionStyleModel",
          "model_module_version": "1.5.0",
          "state": {
            "_view_name": "StyleView",
            "_model_name": "DescriptionStyleModel",
            "description_width": "",
            "_view_module": "@jupyter-widgets/base",
            "_model_module_version": "1.5.0",
            "_view_count": null,
            "_view_module_version": "1.2.0",
            "_model_module": "@jupyter-widgets/controls"
          }
        },
        "364c93197f0e49ac9ebf773e392bdcbb": {
          "model_module": "@jupyter-widgets/base",
          "model_name": "LayoutModel",
          "model_module_version": "1.2.0",
          "state": {
            "_view_name": "LayoutView",
            "grid_template_rows": null,
            "right": null,
            "justify_content": null,
            "_view_module": "@jupyter-widgets/base",
            "overflow": null,
            "_model_module_version": "1.2.0",
            "_view_count": null,
            "flex_flow": null,
            "width": null,
            "min_width": null,
            "border": null,
            "align_items": null,
            "bottom": null,
            "_model_module": "@jupyter-widgets/base",
            "top": null,
            "grid_column": null,
            "overflow_y": null,
            "overflow_x": null,
            "grid_auto_flow": null,
            "grid_area": null,
            "grid_template_columns": null,
            "flex": null,
            "_model_name": "LayoutModel",
            "justify_items": null,
            "grid_row": null,
            "max_height": null,
            "align_content": null,
            "visibility": null,
            "align_self": null,
            "height": null,
            "min_height": null,
            "padding": null,
            "grid_auto_rows": null,
            "grid_gap": null,
            "max_width": null,
            "order": null,
            "_view_module_version": "1.2.0",
            "grid_template_areas": null,
            "object_position": null,
            "object_fit": null,
            "grid_auto_columns": null,
            "margin": null,
            "display": null,
            "left": null
          }
        },
        "15b0554a8b21473b8bc4fbd2f901fe18": {
          "model_module": "@jupyter-widgets/controls",
          "model_name": "HBoxModel",
          "model_module_version": "1.5.0",
          "state": {
            "_view_name": "HBoxView",
            "_dom_classes": [],
            "_model_name": "HBoxModel",
            "_view_module": "@jupyter-widgets/controls",
            "_model_module_version": "1.5.0",
            "_view_count": null,
            "_view_module_version": "1.5.0",
            "box_style": "",
            "layout": "IPY_MODEL_e3e8b31975364734a713b209d98c4157",
            "_model_module": "@jupyter-widgets/controls",
            "children": [
              "IPY_MODEL_a665ea62e6c54f80aa1d409767fc787e",
              "IPY_MODEL_ce2680e8a13e487da0b037a2b1cf657d",
              "IPY_MODEL_4055c1959df340a2b42485917f1541d6"
            ]
          }
        },
        "e3e8b31975364734a713b209d98c4157": {
          "model_module": "@jupyter-widgets/base",
          "model_name": "LayoutModel",
          "model_module_version": "1.2.0",
          "state": {
            "_view_name": "LayoutView",
            "grid_template_rows": null,
            "right": null,
            "justify_content": null,
            "_view_module": "@jupyter-widgets/base",
            "overflow": null,
            "_model_module_version": "1.2.0",
            "_view_count": null,
            "flex_flow": null,
            "width": null,
            "min_width": null,
            "border": null,
            "align_items": null,
            "bottom": null,
            "_model_module": "@jupyter-widgets/base",
            "top": null,
            "grid_column": null,
            "overflow_y": null,
            "overflow_x": null,
            "grid_auto_flow": null,
            "grid_area": null,
            "grid_template_columns": null,
            "flex": null,
            "_model_name": "LayoutModel",
            "justify_items": null,
            "grid_row": null,
            "max_height": null,
            "align_content": null,
            "visibility": null,
            "align_self": null,
            "height": null,
            "min_height": null,
            "padding": null,
            "grid_auto_rows": null,
            "grid_gap": null,
            "max_width": null,
            "order": null,
            "_view_module_version": "1.2.0",
            "grid_template_areas": null,
            "object_position": null,
            "object_fit": null,
            "grid_auto_columns": null,
            "margin": null,
            "display": null,
            "left": null
          }
        },
        "a665ea62e6c54f80aa1d409767fc787e": {
          "model_module": "@jupyter-widgets/controls",
          "model_name": "HTMLModel",
          "model_module_version": "1.5.0",
          "state": {
            "_view_name": "HTMLView",
            "style": "IPY_MODEL_154c23c88ac6435a82c9f455e70a44e8",
            "_dom_classes": [],
            "description": "",
            "_model_name": "HTMLModel",
            "placeholder": "​",
            "_view_module": "@jupyter-widgets/controls",
            "_model_module_version": "1.5.0",
            "value": "100%",
            "_view_count": null,
            "_view_module_version": "1.5.0",
            "description_tooltip": null,
            "_model_module": "@jupyter-widgets/controls",
            "layout": "IPY_MODEL_ecf834cc1a4e499ea0423abcaa82d8d1"
          }
        },
        "ce2680e8a13e487da0b037a2b1cf657d": {
          "model_module": "@jupyter-widgets/controls",
          "model_name": "FloatProgressModel",
          "model_module_version": "1.5.0",
          "state": {
            "_view_name": "ProgressView",
            "style": "IPY_MODEL_833657cfacd84beeb8cfdd398992b43c",
            "_dom_classes": [],
            "description": "",
            "_model_name": "FloatProgressModel",
            "bar_style": "success",
            "max": 952640,
            "_view_module": "@jupyter-widgets/controls",
            "_model_module_version": "1.5.0",
            "value": 952640,
            "_view_count": null,
            "_view_module_version": "1.5.0",
            "orientation": "horizontal",
            "min": 0,
            "description_tooltip": null,
            "_model_module": "@jupyter-widgets/controls",
            "layout": "IPY_MODEL_33911f64692a49d198ae37337e4c0e17"
          }
        },
        "4055c1959df340a2b42485917f1541d6": {
          "model_module": "@jupyter-widgets/controls",
          "model_name": "HTMLModel",
          "model_module_version": "1.5.0",
          "state": {
            "_view_name": "HTMLView",
            "style": "IPY_MODEL_686832c28b484f81a50de8bf14072a1b",
            "_dom_classes": [],
            "description": "",
            "_model_name": "HTMLModel",
            "placeholder": "​",
            "_view_module": "@jupyter-widgets/controls",
            "_model_module_version": "1.5.0",
            "value": " 952640/952640 [00:17&lt;00:00, 28321.92it/s]",
            "_view_count": null,
            "_view_module_version": "1.5.0",
            "description_tooltip": null,
            "_model_module": "@jupyter-widgets/controls",
            "layout": "IPY_MODEL_d755aa536cc34f10a802674444ea78e6"
          }
        },
        "154c23c88ac6435a82c9f455e70a44e8": {
          "model_module": "@jupyter-widgets/controls",
          "model_name": "DescriptionStyleModel",
          "model_module_version": "1.5.0",
          "state": {
            "_view_name": "StyleView",
            "_model_name": "DescriptionStyleModel",
            "description_width": "",
            "_view_module": "@jupyter-widgets/base",
            "_model_module_version": "1.5.0",
            "_view_count": null,
            "_view_module_version": "1.2.0",
            "_model_module": "@jupyter-widgets/controls"
          }
        },
        "ecf834cc1a4e499ea0423abcaa82d8d1": {
          "model_module": "@jupyter-widgets/base",
          "model_name": "LayoutModel",
          "model_module_version": "1.2.0",
          "state": {
            "_view_name": "LayoutView",
            "grid_template_rows": null,
            "right": null,
            "justify_content": null,
            "_view_module": "@jupyter-widgets/base",
            "overflow": null,
            "_model_module_version": "1.2.0",
            "_view_count": null,
            "flex_flow": null,
            "width": null,
            "min_width": null,
            "border": null,
            "align_items": null,
            "bottom": null,
            "_model_module": "@jupyter-widgets/base",
            "top": null,
            "grid_column": null,
            "overflow_y": null,
            "overflow_x": null,
            "grid_auto_flow": null,
            "grid_area": null,
            "grid_template_columns": null,
            "flex": null,
            "_model_name": "LayoutModel",
            "justify_items": null,
            "grid_row": null,
            "max_height": null,
            "align_content": null,
            "visibility": null,
            "align_self": null,
            "height": null,
            "min_height": null,
            "padding": null,
            "grid_auto_rows": null,
            "grid_gap": null,
            "max_width": null,
            "order": null,
            "_view_module_version": "1.2.0",
            "grid_template_areas": null,
            "object_position": null,
            "object_fit": null,
            "grid_auto_columns": null,
            "margin": null,
            "display": null,
            "left": null
          }
        },
        "833657cfacd84beeb8cfdd398992b43c": {
          "model_module": "@jupyter-widgets/controls",
          "model_name": "ProgressStyleModel",
          "model_module_version": "1.5.0",
          "state": {
            "_view_name": "StyleView",
            "_model_name": "ProgressStyleModel",
            "description_width": "",
            "_view_module": "@jupyter-widgets/base",
            "_model_module_version": "1.5.0",
            "_view_count": null,
            "_view_module_version": "1.2.0",
            "bar_color": null,
            "_model_module": "@jupyter-widgets/controls"
          }
        },
        "33911f64692a49d198ae37337e4c0e17": {
          "model_module": "@jupyter-widgets/base",
          "model_name": "LayoutModel",
          "model_module_version": "1.2.0",
          "state": {
            "_view_name": "LayoutView",
            "grid_template_rows": null,
            "right": null,
            "justify_content": null,
            "_view_module": "@jupyter-widgets/base",
            "overflow": null,
            "_model_module_version": "1.2.0",
            "_view_count": null,
            "flex_flow": null,
            "width": null,
            "min_width": null,
            "border": null,
            "align_items": null,
            "bottom": null,
            "_model_module": "@jupyter-widgets/base",
            "top": null,
            "grid_column": null,
            "overflow_y": null,
            "overflow_x": null,
            "grid_auto_flow": null,
            "grid_area": null,
            "grid_template_columns": null,
            "flex": null,
            "_model_name": "LayoutModel",
            "justify_items": null,
            "grid_row": null,
            "max_height": null,
            "align_content": null,
            "visibility": null,
            "align_self": null,
            "height": null,
            "min_height": null,
            "padding": null,
            "grid_auto_rows": null,
            "grid_gap": null,
            "max_width": null,
            "order": null,
            "_view_module_version": "1.2.0",
            "grid_template_areas": null,
            "object_position": null,
            "object_fit": null,
            "grid_auto_columns": null,
            "margin": null,
            "display": null,
            "left": null
          }
        },
        "686832c28b484f81a50de8bf14072a1b": {
          "model_module": "@jupyter-widgets/controls",
          "model_name": "DescriptionStyleModel",
          "model_module_version": "1.5.0",
          "state": {
            "_view_name": "StyleView",
            "_model_name": "DescriptionStyleModel",
            "description_width": "",
            "_view_module": "@jupyter-widgets/base",
            "_model_module_version": "1.5.0",
            "_view_count": null,
            "_view_module_version": "1.2.0",
            "_model_module": "@jupyter-widgets/controls"
          }
        },
        "d755aa536cc34f10a802674444ea78e6": {
          "model_module": "@jupyter-widgets/base",
          "model_name": "LayoutModel",
          "model_module_version": "1.2.0",
          "state": {
            "_view_name": "LayoutView",
            "grid_template_rows": null,
            "right": null,
            "justify_content": null,
            "_view_module": "@jupyter-widgets/base",
            "overflow": null,
            "_model_module_version": "1.2.0",
            "_view_count": null,
            "flex_flow": null,
            "width": null,
            "min_width": null,
            "border": null,
            "align_items": null,
            "bottom": null,
            "_model_module": "@jupyter-widgets/base",
            "top": null,
            "grid_column": null,
            "overflow_y": null,
            "overflow_x": null,
            "grid_auto_flow": null,
            "grid_area": null,
            "grid_template_columns": null,
            "flex": null,
            "_model_name": "LayoutModel",
            "justify_items": null,
            "grid_row": null,
            "max_height": null,
            "align_content": null,
            "visibility": null,
            "align_self": null,
            "height": null,
            "min_height": null,
            "padding": null,
            "grid_auto_rows": null,
            "grid_gap": null,
            "max_width": null,
            "order": null,
            "_view_module_version": "1.2.0",
            "grid_template_areas": null,
            "object_position": null,
            "object_fit": null,
            "grid_auto_columns": null,
            "margin": null,
            "display": null,
            "left": null
          }
        }
      }
    }
  },
  "cells": [
    {
      "cell_type": "markdown",
      "metadata": {
        "id": "view-in-github",
        "colab_type": "text"
      },
      "source": [
        "<a href=\"https://colab.research.google.com/github/ezratawil/LSTM-Sentiment-Analysis-/blob/main/NLP_Project.ipynb\" target=\"_parent\"><img src=\"https://colab.research.google.com/assets/colab-badge.svg\" alt=\"Open In Colab\"/></a>"
      ]
    },
    {
      "cell_type": "markdown",
      "source": [
        "# Imports\n"
      ],
      "metadata": {
        "id": "BbmZS4xBbAOk"
      }
    },
    {
      "cell_type": "code",
      "execution_count": 1,
      "metadata": {
        "id": "3hYk46Gla1Xy",
        "colab": {
          "base_uri": "https://localhost:8080/"
        },
        "outputId": "1212c705-cb78-40e6-c84c-8caf25ce032f"
      },
      "outputs": [
        {
          "output_type": "stream",
          "name": "stdout",
          "text": [
            "[nltk_data] Downloading package stopwords to /root/nltk_data...\n",
            "[nltk_data]   Unzipping corpora/stopwords.zip.\n"
          ]
        }
      ],
      "source": [
        "\n",
        "import numpy as np\n",
        "import pandas as pd\n",
        "import tensorflow as tf\n",
        "from sklearn.model_selection import train_test_split\n",
        "from google.colab import files\n",
        "from sklearn.pipeline import Pipeline\n",
        "import nltk\n",
        "nltk.download('stopwords')\n",
        "from nltk.corpus import stopwords\n",
        "from collections import Counter\n",
        "from sklearn.preprocessing import FunctionTransformer\n",
        "import string\n",
        "from tqdm.notebook import tqdm\n",
        "tqdm.pandas()\n",
        "from keras.layers import Embedding, Dense, Dropout, Input, LSTM, GlobalMaxPooling1D\n",
        "from keras.callbacks import EarlyStopping,ModelCheckpoint"
      ]
    },
    {
      "cell_type": "markdown",
      "source": [
        "# Import curated data for processing"
      ],
      "metadata": {
        "id": "49TUTo5rggCo"
      }
    },
    {
      "cell_type": "code",
      "source": [
        "amazon = pd.read_csv('/content/amazon.csv')\n",
        "imdb = pd.read_csv('/content/imdb_proc.csv')\n",
        "yelp = pd.read_csv('/content/yelp.csv')"
      ],
      "metadata": {
        "id": "-5YrEwdXlSv4"
      },
      "execution_count": 5,
      "outputs": []
    },
    {
      "cell_type": "code",
      "source": [
        "print(amazon.value_counts(amazon['label']))\n",
        "print(imdb.value_counts(imdb['label']))\n",
        "print(yelp.value_counts(yelp['label']))"
      ],
      "metadata": {
        "colab": {
          "base_uri": "https://localhost:8080/"
        },
        "id": "QSYe8hX_SHKm",
        "outputId": "29fb70a4-89e1-4f99-c28f-c2c7a3ee7049"
      },
      "execution_count": 6,
      "outputs": [
        {
          "output_type": "stream",
          "name": "stdout",
          "text": [
            "label\n",
            "1    2000000\n",
            "0    2000000\n",
            "dtype: int64\n",
            "label\n",
            "1    25000\n",
            "0    25000\n",
            "dtype: int64\n",
            "label\n",
            "1    299000\n",
            "0    299000\n",
            "dtype: int64\n"
          ]
        }
      ]
    },
    {
      "cell_type": "code",
      "source": [
        "# split into train and test at this point, \n",
        "# because datasets vary in size, so we would like a porportional sample of each \n",
        "# dataset for training, and we would also like to stratify our sampling so we\n",
        "# get a porportional amount of negative and positive sentiment texts to \n",
        "# train/fit the model to\n",
        "\n",
        "# amazon data too large for model training time , reduce to 1M samples\n",
        "amazon_keep , amazon_drop =  train_test_split(amazon, test_size=0.8, random_state=0, stratify=amazon[['label']])\n",
        "\n",
        "amazon_train,amazon_test = train_test_split(amazon_keep,test_size=0.2,random_state=0,stratify=amazon_keep[['label']])\n",
        "amazon_train, amazon_val =  train_test_split(amazon_train, test_size=0.2, random_state=0, stratify=amazon_train[['label']])\n",
        "\n",
        "yelp_train, yelp_test =  train_test_split(yelp, test_size=0.15, random_state=0, stratify=yelp[['label']])\n",
        "yelp_train, yelp_val =  train_test_split(yelp_train, test_size=0.2, random_state=0, stratify=yelp_train[['label']])\n",
        "\n",
        "imdb_train, imdb_test = train_test_split(imdb, test_size=0.15, random_state=0, stratify=imdb[['label']])\n",
        "imdb_train, imdb_val = train_test_split(imdb_train, test_size=0.2, random_state=0, stratify=imdb_train[['label']])"
      ],
      "metadata": {
        "id": "dKxF4WEdnZRR"
      },
      "execution_count": null,
      "outputs": []
    },
    {
      "cell_type": "code",
      "source": [
        "# total 952640 training instances\n",
        "train_data = pd.concat([amazon_train,yelp_train,imdb_train],ignore_index=True)\n",
        "# total 257200 validation instances\n",
        "val_data = pd.concat([amazon_val,yelp_val,imdb_val],ignore_index=True)\n",
        "# total 238160 testing instances\n",
        "test_data = pd.concat([amazon_test,yelp_test,imdb_test],ignore_index=True)\n",
        "# remove unnecessary cols\n",
        "train_data.drop(['Unnamed: 0','website'],axis=1,inplace=True)\n",
        "test_data.drop(['Unnamed: 0','website'],axis=1,inplace=True)\n",
        "val_data.drop(['Unnamed: 0','website'],axis=1, inplace=True)"
      ],
      "metadata": {
        "id": "8N70RTuM2M1C"
      },
      "execution_count": null,
      "outputs": []
    },
    {
      "cell_type": "code",
      "source": [
        "print(f'train: {train_data.shape}, test: {test_data.shape}, val: {val_data.shape}')"
      ],
      "metadata": {
        "colab": {
          "base_uri": "https://localhost:8080/"
        },
        "id": "mwPM6xt2tBBz",
        "outputId": "d1ace6d0-f4b3-4ada-c501-9a10822a7b4a"
      },
      "execution_count": null,
      "outputs": [
        {
          "output_type": "stream",
          "name": "stdout",
          "text": [
            "train: (952640, 2), test: (257200, 2), val: (238160, 2)\n"
          ]
        }
      ]
    },
    {
      "cell_type": "markdown",
      "source": [
        "# Preprocessing"
      ],
      "metadata": {
        "id": "nFSH5aDMfF7T"
      }
    },
    {
      "cell_type": "code",
      "source": [
        "STOPWORDS = set(stopwords.words('english'))\n",
        "counter = Counter()\n",
        "FREQ = set([word for (word,word_count) in counter.most_common(15)])\n",
        "rare_words = 200000\n",
        "RARE = set([word for (word, word_count) in counter.most_common()[:-rare_words-1:-1]])\n",
        "# func to remove all punctuation\n",
        "def remove_punc(text):\n",
        "  return text.translate(str.maketrans('', '', string.punctuation))\n",
        "# func to remove stopwords\n",
        "def remove_stopwords(text):\n",
        "  return \" \".join([word for word in str(text).split() if word not in STOPWORDS])\n",
        "# func to remove 15 most frequent words ()\n",
        "def remove_freq(text):\n",
        "  return \" \".join([word for word in str(text).split() if word not in FREQ])\n",
        "\n",
        "def remove_rare(text):\n",
        "  return \" \".join([word for word in str(text).split() if word not in RARE])\n",
        "\n",
        "\n",
        "\n",
        "def preprocess(df):\n",
        "  df[\"text\"] = df[\"text\"].progress_apply(lambda text: remove_punc(text))\n",
        "  df[\"text\"] = df[\"text\"].progress_apply(lambda text: remove_stopwords(text))\n",
        "  df[\"text\"] = df[\"text\"].progress_apply(lambda text: remove_freq(text))\n",
        "  df[\"text\"] = df[\"text\"].progress_apply(lambda text: remove_rare(text))\n",
        "  \n",
        "preprocessing = FunctionTransformer(preprocess) # make transformer for pipeline use\n",
        "\n"
      ],
      "metadata": {
        "id": "QrGGBb_O2rFS"
      },
      "execution_count": null,
      "outputs": []
    },
    {
      "cell_type": "code",
      "source": [
        "prep_pipe = Pipeline([('preprocessing',preprocessing)])\n",
        "\n",
        "prep_pipe.fit_transform(train_data)\n",
        "\n",
        "prep_pipe.transform(val_data)\n",
        "\n",
        "prep_pipe.transform(test_data)"
      ],
      "metadata": {
        "colab": {
          "base_uri": "https://localhost:8080/",
          "height": 145,
          "referenced_widgets": [
            "506197885b8645b481a3313900ba3355",
            "2343fc6137b84ee7af846f869eac6559",
            "c84c4c2d9ec448588892d83123381524",
            "ce0f8280182f4858ac4340676d72ac1c",
            "9c953280ca9d44f489d886f3782f9def",
            "80439b06a13549c5a5c12bc4bf9e35e2",
            "17c98881851c4c768941e9dfa964e82d",
            "2d0205b399f14a4fbacb3bf27d94c578",
            "8ba1636650104bd98ba62a2cf4a67b0b",
            "41395a2af8ac4ba9ae4bf42118fdc77f",
            "a0e3a1b0937d453e98d43474a7b0319b",
            "85e8c9fcbc204c17b32fd609593aece1",
            "540680462aef4dcb92ad7bd79262a241",
            "11838d49a4ce465da764659c645ed7ad",
            "02b705da00c1488487274a0e52b1642f",
            "76705401a9fa4eb3b224f5179203f68e",
            "62c2c1795d414d338daa2d5aff1d9ed5",
            "3fc73ab23f764200b7605ea3425bcabf",
            "7f4a00f3c0594a93b0a60a7d0dbab184",
            "de1410b6e4a842e3bc9d5defc19a0924",
            "b016c092b96945f5b34da75f017b5ee0",
            "d2629f1ecdc44274b7f73bc07cd39b2a",
            "089b3ff9c61346f6ba712166d908c516",
            "799af62c815c4efdb93055e2b5bb91e0",
            "4f4b97be39b84b0298f410d970fdbef6",
            "6abd9a7d66904a5eb283800b96ead724",
            "44728d22b2b048b7ad2155f297bf86b4",
            "525b3a3d909d4f75be24061f0af702aa",
            "3f38da16d8f641039a8e1cf7a4ae2828",
            "db9a09749409461c9f455824917ca980",
            "e395e56d82e041259005ff698c383c6c",
            "35234762db1847a8b33bd7f2ad354efe",
            "364c93197f0e49ac9ebf773e392bdcbb",
            "15b0554a8b21473b8bc4fbd2f901fe18",
            "e3e8b31975364734a713b209d98c4157",
            "a665ea62e6c54f80aa1d409767fc787e",
            "ce2680e8a13e487da0b037a2b1cf657d",
            "4055c1959df340a2b42485917f1541d6",
            "154c23c88ac6435a82c9f455e70a44e8",
            "ecf834cc1a4e499ea0423abcaa82d8d1",
            "833657cfacd84beeb8cfdd398992b43c",
            "33911f64692a49d198ae37337e4c0e17",
            "686832c28b484f81a50de8bf14072a1b",
            "d755aa536cc34f10a802674444ea78e6"
          ]
        },
        "id": "RVuBm3oU4UKZ",
        "outputId": "1ef8d2f9-6aa7-4cb9-9eeb-e684180a8cd0"
      },
      "execution_count": null,
      "outputs": [
        {
          "output_type": "display_data",
          "data": {
            "application/vnd.jupyter.widget-view+json": {
              "model_id": "506197885b8645b481a3313900ba3355",
              "version_minor": 0,
              "version_major": 2
            },
            "text/plain": [
              "  0%|          | 0/952640 [00:00<?, ?it/s]"
            ]
          },
          "metadata": {}
        },
        {
          "output_type": "display_data",
          "data": {
            "application/vnd.jupyter.widget-view+json": {
              "model_id": "85e8c9fcbc204c17b32fd609593aece1",
              "version_minor": 0,
              "version_major": 2
            },
            "text/plain": [
              "  0%|          | 0/952640 [00:00<?, ?it/s]"
            ]
          },
          "metadata": {}
        },
        {
          "output_type": "display_data",
          "data": {
            "application/vnd.jupyter.widget-view+json": {
              "model_id": "089b3ff9c61346f6ba712166d908c516",
              "version_minor": 0,
              "version_major": 2
            },
            "text/plain": [
              "  0%|          | 0/952640 [00:00<?, ?it/s]"
            ]
          },
          "metadata": {}
        },
        {
          "output_type": "display_data",
          "data": {
            "application/vnd.jupyter.widget-view+json": {
              "model_id": "15b0554a8b21473b8bc4fbd2f901fe18",
              "version_minor": 0,
              "version_major": 2
            },
            "text/plain": [
              "  0%|          | 0/952640 [00:00<?, ?it/s]"
            ]
          },
          "metadata": {}
        }
      ]
    },
    {
      "cell_type": "markdown",
      "source": [
        "# Tokenize and pad sequences"
      ],
      "metadata": {
        "id": "vRodqE0jgSJb"
      }
    },
    {
      "cell_type": "code",
      "source": [
        "train_data = train_data.sample(frac=1).reset_index(drop=True) # shuffle datasets\n",
        "val_data = val_data.sample(frac=1).reset_index(drop=True)\n",
        "test_data = test_data.sample(frac=1).reset_index(drop=True)"
      ],
      "metadata": {
        "id": "pTbFQ3zdBXck"
      },
      "execution_count": 2,
      "outputs": []
    },
    {
      "cell_type": "code",
      "source": [
        "from tensorflow.keras.preprocessing.text import Tokenizer\n",
        "\n",
        "train_data.dropna(inplace=True)\n",
        "val_data.dropna(inplace=True)\n",
        "X_train,y_train = train_data['text'],train_data['label']\n",
        "X_val,y_val = val_data['text'],val_data['label']\n",
        "X_test,y_test = test_data['text'],test_data['label']"
      ],
      "metadata": {
        "id": "K7-AmhrnhCMq"
      },
      "execution_count": null,
      "outputs": []
    },
    {
      "cell_type": "code",
      "source": [
        "# keep only 100000 most common words, oov = out of vocabulary token, \n",
        "# used to replace words not in vocab \n",
        "tokenizer = Tokenizer(num_words=100000, oov_token='<UNK>') \n",
        "\n",
        "tokenizer.fit_on_texts(X_train)\n",
        "vocab_size = len(tokenizer.word_index) + 1\n",
        "vocab_size\n"
      ],
      "metadata": {
        "id": "wYvnJ1TFhQO_",
        "colab": {
          "base_uri": "https://localhost:8080/"
        },
        "outputId": "1792cb26-6d19-49e2-dcdd-8e8512f80ed5"
      },
      "execution_count": null,
      "outputs": [
        {
          "output_type": "execute_result",
          "data": {
            "text/plain": [
              "1098481"
            ]
          },
          "metadata": {},
          "execution_count": 12
        }
      ]
    },
    {
      "cell_type": "code",
      "source": [
        "from tensorflow.keras.preprocessing.sequence import pad_sequences\n",
        "\n",
        "def get_sequences(tokenizer, text):\n",
        "    sequences = tokenizer.texts_to_sequences(text)\n",
        "    padded_sequences = pad_sequences(sequences, truncating='post', maxlen=100, padding='post')\n",
        "    return padded_sequences.astype('float32')"
      ],
      "metadata": {
        "id": "SAIl_gdqfBw3"
      },
      "execution_count": null,
      "outputs": []
    },
    {
      "cell_type": "code",
      "source": [
        "padded_train_sequences = get_sequences(tokenizer, X_train)\n",
        "padded_val_sequences = get_sequences(tokenizer, X_val)\n",
        "padded_test_sequences = get_sequences(tokenizer, X_test)"
      ],
      "metadata": {
        "id": "-l4_biICln7F"
      },
      "execution_count": null,
      "outputs": []
    },
    {
      "cell_type": "code",
      "source": [
        "padded_train_sequences[100808]"
      ],
      "metadata": {
        "id": "VGuisWhGl8pG",
        "colab": {
          "base_uri": "https://localhost:8080/"
        },
        "outputId": "dc8c1a61-984c-4033-804f-0a3ad076a0a5"
      },
      "execution_count": null,
      "outputs": [
        {
          "output_type": "execute_result",
          "data": {
            "text/plain": [
              "array([2.0000e+00, 1.1680e+03, 7.0000e+00, 8.3000e+01, 1.3000e+01,\n",
              "       5.8700e+02, 1.9000e+02, 2.0000e+00, 3.3300e+02, 2.0000e+00,\n",
              "       9.5330e+03, 2.6670e+03, 3.6740e+03, 4.6000e+01, 2.7860e+03,\n",
              "       1.8560e+03, 2.0000e+00, 1.8100e+02, 3.5660e+03, 8.2000e+01,\n",
              "       1.1000e+01, 7.0900e+02, 5.2000e+01, 8.7600e+02, 1.6100e+03,\n",
              "       3.7000e+01, 4.0000e+01, 4.9000e+02, 2.6810e+03, 4.4000e+01,\n",
              "       1.1000e+02, 1.1000e+01, 2.6670e+03, 3.8800e+02, 1.5520e+03,\n",
              "       3.6740e+03, 1.7490e+03, 1.3700e+02, 9.1800e+02, 6.4530e+03,\n",
              "       5.7000e+01, 5.7000e+01, 1.7180e+03, 6.9000e+01, 1.9860e+03,\n",
              "       8.0000e+02, 1.2600e+02, 2.5000e+01, 1.5985e+04, 4.0800e+02,\n",
              "       1.8100e+02, 1.3140e+03, 1.7180e+03, 5.3800e+02, 3.5700e+02,\n",
              "       6.0300e+02, 2.7330e+03, 9.0000e+00, 2.0300e+02, 1.0170e+03,\n",
              "       8.1240e+03, 4.6000e+01, 5.4000e+01, 1.1000e+01, 4.9600e+02,\n",
              "       2.8000e+02, 2.2690e+03, 2.7720e+03, 5.8550e+03, 5.1728e+04,\n",
              "       9.1800e+02, 1.3012e+04, 2.2000e+01, 5.8700e+02, 5.2000e+01,\n",
              "       1.7180e+03, 1.7524e+04, 1.1000e+01, 0.0000e+00, 0.0000e+00,\n",
              "       0.0000e+00, 0.0000e+00, 0.0000e+00, 0.0000e+00, 0.0000e+00,\n",
              "       0.0000e+00, 0.0000e+00, 0.0000e+00, 0.0000e+00, 0.0000e+00,\n",
              "       0.0000e+00, 0.0000e+00, 0.0000e+00, 0.0000e+00, 0.0000e+00,\n",
              "       0.0000e+00, 0.0000e+00, 0.0000e+00, 0.0000e+00, 0.0000e+00],\n",
              "      dtype=float32)"
            ]
          },
          "metadata": {},
          "execution_count": 15
        }
      ]
    },
    {
      "cell_type": "markdown",
      "source": [
        "#  Create Embedding from Glove embeddings and Build model"
      ],
      "metadata": {
        "id": "soN8yKR885Om"
      }
    },
    {
      "cell_type": "code",
      "source": [
        "# load the whole embedding into memory\n",
        "embeddings_index = dict()\n",
        "f = open('glove.6B.100d.txt')\n",
        "\n",
        "for line in f:\n",
        "    values = line.split()\n",
        "    word = values[0]\n",
        "    coefs = np.asarray(values[1:], dtype='float32')\n",
        "    embeddings_index[word] = coefs\n",
        "\n",
        "f.close()\n",
        "print(f'Loaded {len(embeddings_index)} word vectors')\n",
        "\n",
        "# generate embedding matrix by mapping the vocabulary to the pretrained word embeddings:\n",
        "\n",
        "# create a weight matrix for words in training reviews\n",
        "embedding_mat = np.zeros((vocab_size, 100))\n",
        "\n",
        "for word, i in tokenizer.word_index.items():\n",
        "    embedding_vec = embeddings_index.get(word)\n",
        "    if embedding_vec is not None:\n",
        "        embedding_mat[i] = embedding_vec\n"
      ],
      "metadata": {
        "id": "Hnzg-hC5GJYO",
        "colab": {
          "base_uri": "https://localhost:8080/"
        },
        "outputId": "03479c3c-ce6f-4334-8271-24019ae951b8"
      },
      "execution_count": null,
      "outputs": [
        {
          "output_type": "stream",
          "name": "stdout",
          "text": [
            "Loaded 400001 word vectors\n"
          ]
        }
      ]
    },
    {
      "cell_type": "code",
      "source": [
        "# defining model architeture\n",
        "model=tf.keras.Sequential()\n",
        "\n",
        "#embedding layer\n",
        "model.add(Embedding(vocab_size,100,weights=[embedding_matrix],input_length=100,trainable=False)) \n",
        "\n",
        "#lstm layer\n",
        "model.add(LSTM(128,return_sequences=True,dropout=0.2))\n",
        "\n",
        "#Global Maxpooling\n",
        "model.add(GlobalMaxPooling1D())\n",
        "\n",
        "#Dense Layer\n",
        "model.add(Dense(64,activation='tanh')) \n",
        "model.add(Dense(1,activation='sigmoid')) \n",
        "\n",
        "#loss function, metrics, optimizer\n",
        "model.compile(optimizer=tf.keras.optimizers.Adam(lr=0.01), \n",
        "              loss='binary_crossentropy',metrics=[\"acc\"]) \n",
        "\n",
        "#Adding callbacks\n",
        "es = EarlyStopping(monitor='val_loss', mode='min', verbose=1,patience=3)  \n",
        "checkpoint=ModelCheckpoint('best_model.h5',\n",
        "                                      monitor='val_acc',\n",
        "                                      mode='max', save_best_only=True,verbose=1)  \n",
        "\n",
        "#Print summary of model\n",
        "print(model.summary())"
      ],
      "metadata": {
        "colab": {
          "base_uri": "https://localhost:8080/"
        },
        "id": "vJEFR1GZXigI",
        "outputId": "778d2b99-d4aa-47d0-dee1-589dad0e1662"
      },
      "execution_count": null,
      "outputs": [
        {
          "output_type": "stream",
          "name": "stdout",
          "text": [
            "Model: \"sequential\"\n",
            "_________________________________________________________________\n",
            " Layer (type)                Output Shape              Param #   \n",
            "=================================================================\n",
            " embedding (Embedding)       (None, 100, 100)          109848100 \n",
            "                                                                 \n",
            " lstm (LSTM)                 (None, 100, 128)          117248    \n",
            "                                                                 \n",
            " global_max_pooling1d (Globa  (None, 128)              0         \n",
            " lMaxPooling1D)                                                  \n",
            "                                                                 \n",
            " dense (Dense)               (None, 64)                8256      \n",
            "                                                                 \n",
            " dense_1 (Dense)             (None, 1)                 65        \n",
            "                                                                 \n",
            "=================================================================\n",
            "Total params: 109,973,669\n",
            "Trainable params: 125,569\n",
            "Non-trainable params: 109,848,100\n",
            "_________________________________________________________________\n",
            "None\n"
          ]
        },
        {
          "output_type": "stream",
          "name": "stderr",
          "text": [
            "/usr/local/lib/python3.7/dist-packages/keras/optimizer_v2/adam.py:105: UserWarning: The `lr` argument is deprecated, use `learning_rate` instead.\n",
            "  super(Adam, self).__init__(name, **kwargs)\n"
          ]
        }
      ]
    },
    {
      "cell_type": "markdown",
      "source": [
        "# Train Latest Model"
      ],
      "metadata": {
        "id": "EAjcZVYuhe3j"
      }
    },
    {
      "cell_type": "code",
      "source": [
        "# training the model:\n",
        "\n",
        "history = model.fit(padded_train_sequences,\n",
        "                    np.array(y_train),batch_size=1024,epochs=10,\n",
        "                    validation_data=(padded_val_sequences,np.array(y_val)),\n",
        "                    verbose=1,callbacks=[es,checkpoint])"
      ],
      "metadata": {
        "id": "a5CKcuaXYYip"
      },
      "execution_count": null,
      "outputs": []
    },
    {
      "cell_type": "markdown",
      "source": [
        "# Evaluating our model on the Test Data"
      ],
      "metadata": {
        "id": "bZsZ6KyEdu3Q"
      }
    },
    {
      "cell_type": "code",
      "source": [
        "#loading best model\n",
        "from keras.models import load_model\n",
        "model = load_model('best_model.h5')\n",
        "\n",
        "#evaluation \n",
        "_,test_acc = model.evaluate(padded_test_sequences,y_test, batch_size=1024)"
      ],
      "metadata": {
        "colab": {
          "base_uri": "https://localhost:8080/"
        },
        "id": "7m3ctgvfZlJt",
        "outputId": "0cd9b517-04f8-4378-954c-4c985b231dc2"
      },
      "execution_count": null,
      "outputs": [
        {
          "output_type": "stream",
          "name": "stdout",
          "text": [
            "252/252 [==============================] - 195s 772ms/step - loss: 0.2419 - acc: 0.8988\n",
            "0.898804783821106\n"
          ]
        }
      ]
    },
    {
      "cell_type": "markdown",
      "source": [
        "# Comparing our model to other classifiers"
      ],
      "metadata": {
        "id": "KkKi8lASLCJp"
      }
    },
    {
      "cell_type": "code",
      "source": [
        "# BASELINE Classifier\n",
        "from sklearn.dummy import DummyClassifier\n",
        "dummy_clf = DummyClassifier() # clasiifies by guessing the most frequent label\n",
        "dummy_clf.fit(X_test,y_test)\n",
        "dummy_clf.predict(X_test)\n",
        "dummy_clf.score(X_test,y_test)"
      ],
      "metadata": {
        "colab": {
          "base_uri": "https://localhost:8080/"
        },
        "id": "d1skasYNlKx8",
        "outputId": "37fc486e-5e7e-4884-d57d-11d8e778c2d8"
      },
      "execution_count": null,
      "outputs": [
        {
          "output_type": "execute_result",
          "data": {
            "text/plain": [
              "0.5000077761707025"
            ]
          },
          "metadata": {},
          "execution_count": 24
        }
      ]
    },
    {
      "cell_type": "markdown",
      "source": [
        "# Comparing our model to NLTK's TextBlob "
      ],
      "metadata": {
        "id": "IV1HbvFLgzGr"
      }
    },
    {
      "cell_type": "code",
      "source": [
        "from textblob import TextBlob\n",
        "def sentiment_calc(text):\n",
        "    try:\n",
        "        return TextBlob(text).sentiment.polarity\n",
        "    except:\n",
        "        return None\n",
        "def get_sentiment_score(df):\n",
        "  df['sentiment'] = df['text'].apply(sentiment_calc)\n",
        "\n",
        "  df.loc[df['sentiment'] >= 0, 'sentiment'] = 1\n",
        "  df.loc[df['sentiment'] < 0, 'sentiment'] = 0\n",
        "  correct = 0\n",
        "  for label,score in zip(df['label'],df['sentiment']):\n",
        "    if label == score:\n",
        "      correct += 1\n",
        "  total = df['sentiment'].count()\n",
        "  acc = correct/total\n",
        "  return acc\n",
        "\n"
      ],
      "metadata": {
        "id": "fBSUFA06LKgw"
      },
      "execution_count": null,
      "outputs": []
    },
    {
      "cell_type": "code",
      "source": [
        "print(f'Baseline Classifier accuracy: {dummy_clf.score(X_test,y_test)}\\n')\n",
        "print(f'TextBlob Accuracy on Test Data: {get_sentiment_score(test_data)}\\n')\n",
        "print(f'Our Model Accuracy on Test Data: {test_acc}')"
      ],
      "metadata": {
        "colab": {
          "base_uri": "https://localhost:8080/"
        },
        "id": "wDip8UeXKga2",
        "outputId": "ce937b90-ce51-4817-8df2-4676c79a7bae"
      },
      "execution_count": 3,
      "outputs": [
        {
          "output_type": "stream",
          "name": "stdout",
          "text": [
            "Baseline Classifier accuracy: 0.5000077761707025\n",
            "\n",
            "TextBlob Accuracy on Test Data: 0.6634784366786419\n",
            "\n",
            "Our Model Accuracy on Test Data: 0.898804783821106\n"
          ]
        }
      ]
    }
  ]
}
